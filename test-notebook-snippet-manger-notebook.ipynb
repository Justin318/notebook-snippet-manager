{
 "cells": [
  {
   "cell_type": "code",
   "execution_count": null,
   "metadata": {
    "collapsed": true
   },
   "outputs": [],
   "source": [
    "def jaccard_distance(seq1, seq2):\n",
    "    set1, set2 = set(seq1), set(seq2)\n",
    "    return 1 - len(set1 & set2) / float(len(set1 | set2))"
   ]
  },
  {
   "cell_type": "code",
   "execution_count": null,
   "metadata": {
    "collapsed": true
   },
   "outputs": [],
   "source": [
    "def sorensen_distance(seq1, seq2):\n",
    "    set1, set2 = set(seq1), set(seq2)\n",
    "    return 1 - (2 * len(set1 & set2) / float(len(set1) + len(set2)))"
   ]
  },
  {
   "cell_type": "code",
   "execution_count": null,
   "metadata": {
    "collapsed": true
   },
   "outputs": [],
   "source": [
    "def hamming_distance(seq1, seq2, normalized = False):\n",
    "    L = len(seq1)\n",
    "    if L != len(seq2):\n",
    "        raise ValueError(\"expected two strings of the same length\")\n",
    "    if L == 0:\n",
    "        return 0.0 if normalized else 0  # equal\n",
    "    dist = sum(c1 != c2 for c1, c2 in zip(seq1, seq2))\n",
    "    if normalized:\n",
    "        return dist / float(L)\n",
    "    return dist"
   ]
  }
 ],
 "metadata": {
  "kernelspec": {
   "display_name": "Python 3",
   "language": "python",
   "name": "python3"
  },
  "language_info": {
   "codemirror_mode": {
    "name": "ipython",
    "version": 3
   },
   "file_extension": ".py",
   "mimetype": "text/x-python",
   "name": "python",
   "nbconvert_exporter": "python",
   "pygments_lexer": "ipython3",
   "version": "3.5.1"
  }
 },
 "nbformat": 4,
 "nbformat_minor": 1
}
